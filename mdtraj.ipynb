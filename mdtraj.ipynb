{
 "cells": [
  {
   "cell_type": "code",
   "execution_count": 1,
   "metadata": {},
   "outputs": [],
   "source": [
    "import mdtraj as md \n",
    "import pandas as pd \n",
    "import numpy as np \n",
    "import seaborn as sns\n",
    "import matplotlib.pyplot as plt"
   ]
  },
  {
   "cell_type": "code",
   "execution_count": 7,
   "metadata": {},
   "outputs": [],
   "source": [
    "AGF_parm = '/mnt/sda1/elainetao/EQ_PROD_0-500/6AGF_WTR/PROT_ONLY.prmtop'\n",
    "J8E_parm = '/mnt/sda1/elainetao/EQ_PROD_0-500/6J8E_WTR/PROT_ONLY.prmtop'\n",
    "J8G_parm = '/mnt/sda1/elainetao/EQ_PROD_0-500/6J8G_WTR/PROT_ONLY.prmtop'\n",
    "UZH_parm = '/mnt/sda1/elainetao/EQ_PROD_0-500/6UZH_WTR/PROT_ONLY.prmtop'\n",
    "UZR_parm = '/mnt/sda1/elainetao/EQ_PROD_0-500/6UZR_WTR/PROT_ONLY.prmtop'"
   ]
  },
  {
   "cell_type": "code",
   "execution_count": 16,
   "metadata": {},
   "outputs": [],
   "source": [
    "AGF_nc1 = '/mnt/sda1/elainetao/EQ_PROD_0-500/6AGF_WTR/rep_1/prod_0-500ns.nc'\n",
    "AGF_nc2 = '/mnt/sda1/elainetao/EQ_PROD_0-500/6AGF_WTR/rep_2/prod_0-500ns.nc'\n",
    "AGF_nc3 = '/mnt/sda1/elainetao/EQ_PROD_0-500/6AGF_WTR/rep_3/prod_0-500ns.nc'\n",
    "\n",
    "J8E_nc1 = '/mnt/sda1/elainetao/EQ_PROD_0-500/6J8E_WTR/rep_1/prod_0-500ns.nc'\n",
    "J8E_nc2 = '/mnt/sda1/elainetao/EQ_PROD_0-500/6J8E_WTR/rep_2/prod_0-500ns.nc'\n",
    "J8E_nc3 = '/mnt/sda1/elainetao/EQ_PROD_0-500/6J8E_WTR/rep_3/prod_0-500ns.nc'\n",
    "\n",
    "J8G_nc1 = '/mnt/sda1/elainetao/EQ_PROD_0-500/6J8G_WTR/rep_1/prod_0-500ns.nc'\n",
    "J8G_nc2 = '/mnt/sda1/elainetao/EQ_PROD_0-500/6J8G_WTR/rep_2/prod_0-500ns.nc'\n",
    "J8G_nc3 = '/mnt/sda1/elainetao/EQ_PROD_0-500/6J8G_WTR/rep_3/prod_0-500ns.nc'\n",
    "\n",
    "UZH_nc1 = '/mnt/sda1/elainetao/EQ_PROD_0-500/6UZH_WTR/rep_1/prod_0-500ns.nc'\n",
    "UZH_nc2 = '/mnt/sda1/elainetao/EQ_PROD_0-500/6UZH_WTR/rep_2/prod_0-500ns.nc'\n",
    "UZH_nc3 = '/mnt/sda1/elainetao/EQ_PROD_0-500/6UZH_WTR/rep_3/prod_0-500ns.nc'\n",
    "\n",
    "UZR_nc1 = '/mnt/sda1/elainetao/EQ_PROD_0-500/6UZR_WTR/rep_1/prod_0-500ns.nc'\n",
    "UZR_nc2 = '/mnt/sda1/elainetao/EQ_PROD_0-500/6UZR_WTR/rep_2/prod_0-500ns.nc'\n",
    "UZR_nc3 = '/mnt/sda1/elainetao/EQ_PROD_0-500/6UZR_WTR/rep_3/prod_0-500ns.nc'"
   ]
  },
  {
   "cell_type": "code",
   "execution_count": 17,
   "metadata": {},
   "outputs": [],
   "source": [
    "AGF_traj1 = md.load(AGF_nc1, top=AGF_parm)\n",
    "AGF_traj2 = md.load(AGF_nc2, top=AGF_parm)\n",
    "AGF_traj3 = md.load(AGF_nc3, top=AGF_parm)"
   ]
  },
  {
   "cell_type": "code",
   "execution_count": 22,
   "metadata": {},
   "outputs": [],
   "source": [
    "J8E_traj1 = md.load(J8E_nc1, top=J8E_parm)\n",
    "J8E_traj2 = md.load(J8E_nc2, top=J8E_parm)\n",
    "J8E_traj3 = md.load(J8E_nc3, top=J8E_parm)"
   ]
  },
  {
   "cell_type": "code",
   "execution_count": 23,
   "metadata": {},
   "outputs": [
    {
     "name": "stdout",
     "output_type": "stream",
     "text": [
      "<mdtraj.Trajectory with 5000 frames, 18541 atoms, 1139 residues, and unitcells>\n",
      "<mdtraj.Trajectory with 5000 frames, 18541 atoms, 1139 residues, and unitcells>\n",
      "<mdtraj.Trajectory with 4933 frames, 18541 atoms, 1139 residues, and unitcells>\n"
     ]
    }
   ],
   "source": [
    "print(J8E_traj1)\n",
    "print(J8E_traj2)\n",
    "print(J8E_traj3)"
   ]
  },
  {
   "cell_type": "code",
   "execution_count": null,
   "metadata": {},
   "outputs": [],
   "source": []
  }
 ],
 "metadata": {
  "kernelspec": {
   "display_name": "Python 3",
   "language": "python",
   "name": "python3"
  },
  "language_info": {
   "codemirror_mode": {
    "name": "ipython",
    "version": 3
   },
   "file_extension": ".py",
   "mimetype": "text/x-python",
   "name": "python",
   "nbconvert_exporter": "python",
   "pygments_lexer": "ipython3",
   "version": "3.8.5"
  },
  "toc": {
   "base_numbering": 1,
   "nav_menu": {},
   "number_sections": true,
   "sideBar": true,
   "skip_h1_title": false,
   "title_cell": "Table of Contents",
   "title_sidebar": "Contents",
   "toc_cell": false,
   "toc_position": {},
   "toc_section_display": true,
   "toc_window_display": false
  }
 },
 "nbformat": 4,
 "nbformat_minor": 4
}
